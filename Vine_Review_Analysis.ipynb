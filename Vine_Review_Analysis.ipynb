{
  "nbformat": 4,
  "nbformat_minor": 0,
  "metadata": {
    "colab": {
      "provenance": []
    },
    "kernelspec": {
      "name": "python3",
      "display_name": "Python 3"
    },
    "language_info": {
      "name": "python"
    }
  },
  "cells": [
    {
      "cell_type": "code",
      "execution_count": 27,
      "metadata": {
        "colab": {
          "base_uri": "https://localhost:8080/"
        },
        "id": "V58rxea0HqSa",
        "outputId": "77447cf9-d5b3-402b-d0ec-73a998150bf0"
      },
      "outputs": [
        {
          "output_type": "stream",
          "name": "stdout",
          "text": [
            "Hit:1 https://cloud.r-project.org/bin/linux/ubuntu bionic-cran40/ InRelease\n",
            "Ign:2 https://developer.download.nvidia.com/compute/machine-learning/repos/ubuntu1804/x86_64  InRelease\n",
            "Hit:3 https://developer.download.nvidia.com/compute/cuda/repos/ubuntu1804/x86_64  InRelease\n",
            "Hit:4 https://developer.download.nvidia.com/compute/machine-learning/repos/ubuntu1804/x86_64  Release\n",
            "Hit:5 http://ppa.launchpad.net/c2d4u.team/c2d4u4.0+/ubuntu bionic InRelease\n",
            "Hit:7 http://ppa.launchpad.net/cran/libgit2/ubuntu bionic InRelease\n",
            "Hit:8 http://ppa.launchpad.net/deadsnakes/ppa/ubuntu bionic InRelease\n",
            "Hit:9 http://ppa.launchpad.net/graphics-drivers/ppa/ubuntu bionic InRelease\n",
            "Get:10 http://security.ubuntu.com/ubuntu bionic-security InRelease [88.7 kB]\n",
            "Get:11 http://security.ubuntu.com/ubuntu bionic-security/main amd64 Packages [3,141 kB]\n",
            "Get:12 http://security.ubuntu.com/ubuntu bionic-security/restricted amd64 Packages [1,369 kB]\n",
            "Err:13 http://archive.ubuntu.com/ubuntu bionic InRelease\n",
            "  Could not connect to archive.ubuntu.com:80 (185.125.190.39), connection timed out Could not connect to archive.ubuntu.com:80 (185.125.190.36), connection timed out Could not connect to archive.ubuntu.com:80 (91.189.91.39), connection timed out [IP: 91.189.91.39 80]\n",
            "Err:14 http://archive.ubuntu.com/ubuntu bionic-updates InRelease\n",
            "  Unable to connect to archive.ubuntu.com:http: [IP: 91.189.91.39 80]\n",
            "Err:15 http://archive.ubuntu.com/ubuntu bionic-backports InRelease\n",
            "  Unable to connect to archive.ubuntu.com:http: [IP: 91.189.91.39 80]\n",
            "Fetched 4,599 kB in 1min 14s (62.5 kB/s)\n",
            "Reading package lists... Done\n",
            "W: Failed to fetch http://archive.ubuntu.com/ubuntu/dists/bionic/InRelease  Could not connect to archive.ubuntu.com:80 (185.125.190.39), connection timed out Could not connect to archive.ubuntu.com:80 (185.125.190.36), connection timed out Could not connect to archive.ubuntu.com:80 (91.189.91.39), connection timed out [IP: 91.189.91.39 80]\n",
            "W: Failed to fetch http://archive.ubuntu.com/ubuntu/dists/bionic-updates/InRelease  Unable to connect to archive.ubuntu.com:http: [IP: 91.189.91.39 80]\n",
            "W: Failed to fetch http://archive.ubuntu.com/ubuntu/dists/bionic-backports/InRelease  Unable to connect to archive.ubuntu.com:http: [IP: 91.189.91.39 80]\n",
            "W: Some index files failed to download. They have been ignored, or old ones used instead.\n"
          ]
        }
      ],
      "source": [
        "import os\n",
        "# Find the latest version of spark 3.2 from http://www.apache.org/dist/spark/ and enter as the spark version\n",
        "# For example:\n",
        "# spark_version = 'spark-3.2.3'\n",
        "spark_version = 'spark-3.2.3'\n",
        "os.environ['SPARK_VERSION']=spark_version\n",
        "\n",
        "# Install Spark and Java\n",
        "!apt-get update\n",
        "!apt-get install openjdk-11-jdk-headless -qq > /dev/null\n",
        "!wget -q http://www.apache.org/dist/spark/$SPARK_VERSION/$SPARK_VERSION-bin-hadoop2.7.tgz\n",
        "!tar xf $SPARK_VERSION-bin-hadoop2.7.tgz\n",
        "!pip install -q findspark\n",
        "\n",
        "# Set Environment Variables\n",
        "import os\n",
        "os.environ[\"JAVA_HOME\"] = \"/usr/lib/jvm/java-11-openjdk-amd64\"\n",
        "os.environ[\"SPARK_HOME\"] = f\"/content/{spark_version}-bin-hadoop2.7\"\n",
        "\n",
        "# Start a SparkSession\n",
        "import findspark\n",
        "findspark.init()"
      ]
    },
    {
      "cell_type": "code",
      "source": [
        "from pyspark.sql import SparkSession\n",
        "spark = SparkSession.builder.appName(\"BigData-ChallengeVineReviews\").getOrCreate()"
      ],
      "metadata": {
        "id": "blMMk0wJEUI8"
      },
      "execution_count": 28,
      "outputs": []
    },
    {
      "cell_type": "code",
      "execution_count": 29,
      "metadata": {
        "colab": {
          "base_uri": "https://localhost:8080/"
        },
        "id": "CtCmBhQJY-9Z",
        "outputId": "7a10acf1-1848-435c-bc72-17bf9b2fa380"
      },
      "outputs": [
        {
          "output_type": "stream",
          "name": "stdout",
          "text": [
            "+-----------+-----------+--------------+----------+--------------+--------------------+--------------------+-----------+-------------+-----------+----+-----------------+--------------------+--------------------+-----------+\n",
            "|marketplace|customer_id|     review_id|product_id|product_parent|       product_title|    product_category|star_rating|helpful_votes|total_votes|vine|verified_purchase|     review_headline|         review_body|review_date|\n",
            "+-----------+-----------+--------------+----------+--------------+--------------------+--------------------+-----------+-------------+-----------+----+-----------------+--------------------+--------------------+-----------+\n",
            "|         US|   12190288|R3FU16928EP5TC|B00AYB1482|     668895143|Enlightened: Seas...|Digital_Video_Dow...|          5|            0|          0|   N|                Y|I loved it and I ...|I loved it and I ...| 2015-08-31|\n",
            "|         US|   30549954|R1IZHHS1MH3AQ4|B00KQD28OM|     246219280|             Vicious|Digital_Video_Dow...|          5|            0|          0|   N|                Y|As always it seem...|As always it seem...| 2015-08-31|\n",
            "|         US|   52895410| R52R85WC6TIAH|B01489L5LQ|     534732318|         After Words|Digital_Video_Dow...|          4|           17|         18|   N|                Y|      Charming movie|This movie isn't ...| 2015-08-31|\n",
            "|         US|   27072354| R7HOOYTVIB0DS|B008LOVIIK|     239012694|Masterpiece: Insp...|Digital_Video_Dow...|          5|            0|          0|   N|                Y|          Five Stars|excellant this is...| 2015-08-31|\n",
            "|         US|   26939022|R1XQ2N5CDOZGNX|B0094LZMT0|     535858974|   On The Waterfront|Digital_Video_Dow...|          5|            0|          0|   N|                Y|Brilliant film fr...|Brilliant film fr...| 2015-08-31|\n",
            "|         US|    4772040|R1HCST57W334KN|B0112OSOQE|      38517795|Rick and Morty Se...|Digital_Video_Dow...|          5|            5|          6|   N|                Y|Best show on TV r...|If you don't like...| 2015-08-31|\n",
            "|         US|   12910040|R32BUTYQS1ZJBQ|B000NPE5SA|     373323715|      Africa Screams|Digital_Video_Dow...|          4|            1|          1|   N|                Y|Very funny. A typ...|Very funny.  A ty...| 2015-08-31|\n",
            "|         US|   38805573|  RH4SXPL4L9QU|B00XWV4QXG|     633842417| Entourage: Season 7|Digital_Video_Dow...|          3|            0|          0|   N|                Y|it was not as goo...|Strange as it is,...| 2015-08-31|\n",
            "|         US|   37100714|R37INWIQA5YW8N|B00X8UKOUK|     666093513|Catastrophe - Sea...|Digital_Video_Dow...|          2|            0|          0|   N|                Y|           Two Stars|Funny shows! We l...| 2015-08-31|\n",
            "|         US|   41234409|R18GSVAAS3N8GX|B00OOKXTFU|     801680808|The Worricker Tri...|Digital_Video_Dow...|          3|            0|          0|   N|                Y|        A tad Stuffy|Well made. Great ...| 2015-08-31|\n",
            "+-----------+-----------+--------------+----------+--------------+--------------------+--------------------+-----------+-------------+-----------+----+-----------------+--------------------+--------------------+-----------+\n",
            "only showing top 10 rows\n",
            "\n"
          ]
        }
      ],
      "source": [
        "from pyspark import SparkFiles\n",
        "url = \"https://s3.amazonaws.com/amazon-reviews-pds/tsv/amazon_reviews_us_Digital_Video_Download_v1_00.tsv.gz\"\n",
        "spark.sparkContext.addFile(url)\n",
        "df = spark.read.option(\"encoding\", \"UTF-8\").csv(SparkFiles.get(\"\"), sep=\"\\t\", header=True, inferSchema=True)\n",
        "df.show(10)"
      ]
    },
    {
      "cell_type": "code",
      "source": [
        "clean = df.dropna()\n",
        "clean.show(10)"
      ],
      "metadata": {
        "colab": {
          "base_uri": "https://localhost:8080/"
        },
        "id": "xp9xU2ZwEWso",
        "outputId": "f8bcabbe-5178-492e-c9c7-730d94fe446c"
      },
      "execution_count": 30,
      "outputs": [
        {
          "output_type": "stream",
          "name": "stdout",
          "text": [
            "+-----------+-----------+--------------+----------+--------------+--------------------+--------------------+-----------+-------------+-----------+----+-----------------+--------------------+--------------------+-----------+\n",
            "|marketplace|customer_id|     review_id|product_id|product_parent|       product_title|    product_category|star_rating|helpful_votes|total_votes|vine|verified_purchase|     review_headline|         review_body|review_date|\n",
            "+-----------+-----------+--------------+----------+--------------+--------------------+--------------------+-----------+-------------+-----------+----+-----------------+--------------------+--------------------+-----------+\n",
            "|         US|   12190288|R3FU16928EP5TC|B00AYB1482|     668895143|Enlightened: Seas...|Digital_Video_Dow...|          5|            0|          0|   N|                Y|I loved it and I ...|I loved it and I ...| 2015-08-31|\n",
            "|         US|   30549954|R1IZHHS1MH3AQ4|B00KQD28OM|     246219280|             Vicious|Digital_Video_Dow...|          5|            0|          0|   N|                Y|As always it seem...|As always it seem...| 2015-08-31|\n",
            "|         US|   52895410| R52R85WC6TIAH|B01489L5LQ|     534732318|         After Words|Digital_Video_Dow...|          4|           17|         18|   N|                Y|      Charming movie|This movie isn't ...| 2015-08-31|\n",
            "|         US|   27072354| R7HOOYTVIB0DS|B008LOVIIK|     239012694|Masterpiece: Insp...|Digital_Video_Dow...|          5|            0|          0|   N|                Y|          Five Stars|excellant this is...| 2015-08-31|\n",
            "|         US|   26939022|R1XQ2N5CDOZGNX|B0094LZMT0|     535858974|   On The Waterfront|Digital_Video_Dow...|          5|            0|          0|   N|                Y|Brilliant film fr...|Brilliant film fr...| 2015-08-31|\n",
            "|         US|    4772040|R1HCST57W334KN|B0112OSOQE|      38517795|Rick and Morty Se...|Digital_Video_Dow...|          5|            5|          6|   N|                Y|Best show on TV r...|If you don't like...| 2015-08-31|\n",
            "|         US|   12910040|R32BUTYQS1ZJBQ|B000NPE5SA|     373323715|      Africa Screams|Digital_Video_Dow...|          4|            1|          1|   N|                Y|Very funny. A typ...|Very funny.  A ty...| 2015-08-31|\n",
            "|         US|   38805573|  RH4SXPL4L9QU|B00XWV4QXG|     633842417| Entourage: Season 7|Digital_Video_Dow...|          3|            0|          0|   N|                Y|it was not as goo...|Strange as it is,...| 2015-08-31|\n",
            "|         US|   37100714|R37INWIQA5YW8N|B00X8UKOUK|     666093513|Catastrophe - Sea...|Digital_Video_Dow...|          2|            0|          0|   N|                Y|           Two Stars|Funny shows! We l...| 2015-08-31|\n",
            "|         US|   41234409|R18GSVAAS3N8GX|B00OOKXTFU|     801680808|The Worricker Tri...|Digital_Video_Dow...|          3|            0|          0|   N|                Y|        A tad Stuffy|Well made. Great ...| 2015-08-31|\n",
            "+-----------+-----------+--------------+----------+--------------+--------------------+--------------------+-----------+-------------+-----------+----+-----------------+--------------------+--------------------+-----------+\n",
            "only showing top 10 rows\n",
            "\n"
          ]
        }
      ]
    },
    {
      "cell_type": "code",
      "source": [
        "\n",
        "# Create the vine_table. DataFrame\n",
        "vine_table = clean.select([\"review_id\",\"star_rating\", \"helpful_votes\",\"total_votes\",\"vine\",\"verified_purchase\"])\n",
        "vine_table.show(10)"
      ],
      "metadata": {
        "colab": {
          "base_uri": "https://localhost:8080/"
        },
        "id": "LnaclsOuEZxY",
        "outputId": "27bd62c3-d01c-4baa-8bbc-c4068497dd91"
      },
      "execution_count": 31,
      "outputs": [
        {
          "output_type": "stream",
          "name": "stdout",
          "text": [
            "+--------------+-----------+-------------+-----------+----+-----------------+\n",
            "|     review_id|star_rating|helpful_votes|total_votes|vine|verified_purchase|\n",
            "+--------------+-----------+-------------+-----------+----+-----------------+\n",
            "|R3FU16928EP5TC|          5|            0|          0|   N|                Y|\n",
            "|R1IZHHS1MH3AQ4|          5|            0|          0|   N|                Y|\n",
            "| R52R85WC6TIAH|          4|           17|         18|   N|                Y|\n",
            "| R7HOOYTVIB0DS|          5|            0|          0|   N|                Y|\n",
            "|R1XQ2N5CDOZGNX|          5|            0|          0|   N|                Y|\n",
            "|R1HCST57W334KN|          5|            5|          6|   N|                Y|\n",
            "|R32BUTYQS1ZJBQ|          4|            1|          1|   N|                Y|\n",
            "|  RH4SXPL4L9QU|          3|            0|          0|   N|                Y|\n",
            "|R37INWIQA5YW8N|          2|            0|          0|   N|                Y|\n",
            "|R18GSVAAS3N8GX|          3|            0|          0|   N|                Y|\n",
            "+--------------+-----------+-------------+-----------+----+-----------------+\n",
            "only showing top 10 rows\n",
            "\n"
          ]
        }
      ]
    },
    {
      "cell_type": "code",
      "source": [
        "\n",
        "# Step 1: Filter the data and create a new DataFrame or table to retrieve all the rows where the total_votes count is equal to or greater than 20\n",
        "from pyspark.sql.functions import col\n",
        "total_vote = vine_table.filter(col(\"total_votes\") >= 20)\n",
        "total_vote.show(10)"
      ],
      "metadata": {
        "colab": {
          "base_uri": "https://localhost:8080/"
        },
        "id": "8heuXxMbEaj4",
        "outputId": "6385b147-312a-43de-a441-8f2b4e4a9341"
      },
      "execution_count": 45,
      "outputs": [
        {
          "output_type": "stream",
          "name": "stdout",
          "text": [
            "+--------------+-----------+-------------+-----------+----+-----------------+\n",
            "|     review_id|star_rating|helpful_votes|total_votes|vine|verified_purchase|\n",
            "+--------------+-----------+-------------+-----------+----+-----------------+\n",
            "|R1CY3APKBOVUYU|          1|            9|         33|   N|                Y|\n",
            "|R2LTI28AN2281A|          1|            0|         22|   N|                Y|\n",
            "|R3PENXZQNYN29L|          1|            1|         26|   N|                Y|\n",
            "| R8IGXNWIBN7ZP|          1|            6|         20|   N|                Y|\n",
            "|R2P8B83Q61L4HS|          1|            0|         22|   N|                Y|\n",
            "| RZM83AGJAUZMA|          1|           32|         41|   N|                Y|\n",
            "|R257YW4XQLDH1M|          1|            6|         20|   N|                Y|\n",
            "|R12MYB9QM2YN8B|          1|           19|         23|   N|                N|\n",
            "| RGCY6WG37F810|          4|           24|         27|   N|                N|\n",
            "|R1TIDPK91S2IRQ|          1|            0|         25|   N|                Y|\n",
            "+--------------+-----------+-------------+-----------+----+-----------------+\n",
            "only showing top 10 rows\n",
            "\n"
          ]
        }
      ]
    },
    {
      "cell_type": "code",
      "source": [
        "# Step 2: Retrieve all the rows where the number of helpful_votes divided by total_votes is equal to or greater than 50%.\n",
        "percent_votes = total_vote.withColumn('percent_votes',col('helpful_votes')/col('total_votes')).filter(col(\"percent_votes\") >= 0.5)\n",
        "percent_votes.show(10)"
      ],
      "metadata": {
        "colab": {
          "base_uri": "https://localhost:8080/"
        },
        "id": "BR-lOqCZEdAs",
        "outputId": "1bde5c44-6366-424d-94a7-5ed5a498d526"
      },
      "execution_count": 33,
      "outputs": [
        {
          "output_type": "stream",
          "name": "stdout",
          "text": [
            "+--------------+-----------+-------------+-----------+----+-----------------+------------------+\n",
            "|     review_id|star_rating|helpful_votes|total_votes|vine|verified_purchase|     percent_votes|\n",
            "+--------------+-----------+-------------+-----------+----+-----------------+------------------+\n",
            "| RZM83AGJAUZMA|          1|           32|         41|   N|                Y|0.7804878048780488|\n",
            "|R12MYB9QM2YN8B|          1|           19|         23|   N|                N|0.8260869565217391|\n",
            "| RGCY6WG37F810|          4|           24|         27|   N|                N|0.8888888888888888|\n",
            "|R2UH0VN09DDQLA|          3|           23|         30|   N|                N|0.7666666666666667|\n",
            "|R1E4W9ROP10WT3|          5|           19|         22|   N|                N|0.8636363636363636|\n",
            "| RF2BLXZTUOL0M|          5|           23|         27|   N|                N|0.8518518518518519|\n",
            "| REMDS9V4J58OR|          4|           25|         29|   N|                Y|0.8620689655172413|\n",
            "|R34CAWTWR5O2VN|          1|           18|         20|   N|                Y|               0.9|\n",
            "|R2ISFKK57JF02V|          5|           25|         26|   N|                Y|0.9615384615384616|\n",
            "|R3D8LNOI6ZPOFY|          5|           68|         72|   N|                Y|0.9444444444444444|\n",
            "+--------------+-----------+-------------+-----------+----+-----------------+------------------+\n",
            "only showing top 10 rows\n",
            "\n"
          ]
        }
      ]
    },
    {
      "cell_type": "code",
      "source": [
        "# Step 3: Retrieves all the rows where a review was written as part of the Vine program (paid)\n",
        "vine_program = percent_votes.filter(col(\"vine\") == \"Y\").show(10)"
      ],
      "metadata": {
        "colab": {
          "base_uri": "https://localhost:8080/"
        },
        "id": "3w0SNJ-VEko9",
        "outputId": "399e4da6-13e6-4546-9cb6-5e721ff31f00"
      },
      "execution_count": 34,
      "outputs": [
        {
          "output_type": "stream",
          "name": "stdout",
          "text": [
            "+---------+-----------+-------------+-----------+----+-----------------+-------------+\n",
            "|review_id|star_rating|helpful_votes|total_votes|vine|verified_purchase|percent_votes|\n",
            "+---------+-----------+-------------+-----------+----+-----------------+-------------+\n",
            "+---------+-----------+-------------+-----------+----+-----------------+-------------+\n",
            "\n"
          ]
        }
      ]
    },
    {
      "cell_type": "code",
      "source": [
        "# Step 4: Retrieves all the rows where the review was not part of the Vine program (unpaid)\n",
        "non_vine_program = percent_votes.filter(col(\"vine\") == \"N\").show(10)\n",
        "    "
      ],
      "metadata": {
        "colab": {
          "base_uri": "https://localhost:8080/"
        },
        "id": "Ei4rBKgSEveH",
        "outputId": "b5f01e55-5909-43f6-d979-4930457a1d16"
      },
      "execution_count": 43,
      "outputs": [
        {
          "output_type": "stream",
          "name": "stdout",
          "text": [
            "+--------------+-----------+-------------+-----------+----+-----------------+------------------+\n",
            "|     review_id|star_rating|helpful_votes|total_votes|vine|verified_purchase|     percent_votes|\n",
            "+--------------+-----------+-------------+-----------+----+-----------------+------------------+\n",
            "| RZM83AGJAUZMA|          1|           32|         41|   N|                Y|0.7804878048780488|\n",
            "|R12MYB9QM2YN8B|          1|           19|         23|   N|                N|0.8260869565217391|\n",
            "| RGCY6WG37F810|          4|           24|         27|   N|                N|0.8888888888888888|\n",
            "|R2UH0VN09DDQLA|          3|           23|         30|   N|                N|0.7666666666666667|\n",
            "|R1E4W9ROP10WT3|          5|           19|         22|   N|                N|0.8636363636363636|\n",
            "| RF2BLXZTUOL0M|          5|           23|         27|   N|                N|0.8518518518518519|\n",
            "| REMDS9V4J58OR|          4|           25|         29|   N|                Y|0.8620689655172413|\n",
            "|R34CAWTWR5O2VN|          1|           18|         20|   N|                Y|               0.9|\n",
            "|R2ISFKK57JF02V|          5|           25|         26|   N|                Y|0.9615384615384616|\n",
            "|R3D8LNOI6ZPOFY|          5|           68|         72|   N|                Y|0.9444444444444444|\n",
            "+--------------+-----------+-------------+-----------+----+-----------------+------------------+\n",
            "only showing top 10 rows\n",
            "\n"
          ]
        }
      ]
    },
    {
      "cell_type": "code",
      "source": [
        "nvp_count = non_vine_program.count()\n",
        "nvp_count"
      ],
      "metadata": {
        "colab": {
          "base_uri": "https://localhost:8080/"
        },
        "id": "ZyHehAgJ22An",
        "outputId": "ae1348f0-c24f-4ef0-dd3f-7375703b9cf2"
      },
      "execution_count": 41,
      "outputs": [
        {
          "output_type": "execute_result",
          "data": {
            "text/plain": [
              "11362"
            ]
          },
          "metadata": {},
          "execution_count": 41
        }
      ]
    },
    {
      "cell_type": "code",
      "source": [
        "# Step 5: Determine the total number of reviews, the number of 5-star reviews, and the percentage of 5-star reviews for the two types of review (paid vs unpaid).\n",
        "\n",
        "from pyspark.sql.functions import col,when,count,lit\n",
        "ratings_total = percent_votes.groupBy(\"vine\").agg(\n",
        "    count(col(\"vine\")).alias(\"Total_Reviews\"),\n",
        "    count(when(col(\"star_rating\") == 5, True)).alias(\"Total_5_Star_Reviews\"),\n",
        "        (count(when(col(\"star_rating\") == 5, True))/count(col(\"vine\"))*100).alias(\"5_Star_%\")).show()"
      ],
      "metadata": {
        "colab": {
          "base_uri": "https://localhost:8080/"
        },
        "id": "3AWw3Y4IE5HF",
        "outputId": "28c4edd6-264f-4659-bf9d-beac2bad39f2"
      },
      "execution_count": 44,
      "outputs": [
        {
          "output_type": "stream",
          "name": "stdout",
          "text": [
            "+----+-------------+--------------------+-----------------+\n",
            "|vine|Total_Reviews|Total_5_Star_Reviews|         5_Star_%|\n",
            "+----+-------------+--------------------+-----------------+\n",
            "|   N|        11362|                4670|41.10191867628939|\n",
            "+----+-------------+--------------------+-----------------+\n",
            "\n"
          ]
        }
      ]
    }
  ]
}